{
 "cells": [
  {
   "cell_type": "code",
   "execution_count": 1,
   "id": "019199c0-2c74-4b5a-93c7-a73382e62c9b",
   "metadata": {
    "tags": []
   },
   "outputs": [],
   "source": [
    "import matplotlib.pyplot as plt\n",
    "import matplotlib as matplotlib\n",
    "import seaborn as sns\n",
    "\n",
    "# unused but required import for doing 3d projections with matplotlib < 3.2\n",
    "import mpl_toolkits.mplot3d  # noqa: F401\n",
    "import numpy\n",
    "import pandas as pd \n",
    "from sklearn import datasets\n",
    "from sklearn.decomposition import PCA\n",
    "from sklearn.neighbors import KNeighborsClassifier\n",
    "import sklearn.metrics as skmet\n",
    "from sklearn.model_selection import train_test_split\n",
    "from sklearn.model_selection import cross_val_score\n",
    "from scipy import stats as st\n",
    "from scipy.io import arff"
   ]
  },
  {
   "cell_type": "code",
   "execution_count": 2,
   "id": "eb9ffc44",
   "metadata": {},
   "outputs": [],
   "source": [
    "iris = datasets.load_iris()\n",
    "df_iris = pd.DataFrame(iris.data, columns=['sepal length', 'sepal width', 'pepal length', 'pepal width'])\n",
    "df_iris = pd.concat([df_iris, pd.DataFrame(iris.target, columns=['name'])], axis=1 )"
   ]
  },
  {
   "cell_type": "code",
   "execution_count": 3,
   "id": "8a4e7785",
   "metadata": {},
   "outputs": [],
   "source": [
    "dict_attr_wine = {\n",
    "    0 : 'Alcohol',\n",
    "    1 : 'Malic acid',\n",
    "    2 : 'Ash',\n",
    "    3 : 'Alcalinity of ash' ,\n",
    "    4 : 'Magnesium',\n",
    "    5 : 'Total phenols',\n",
    "    6 : 'Flavanoids',\n",
    "    7 : 'Nonflavanoid phenols',\n",
    "    8 : 'Proanthocyanins',\n",
    "    9 : 'Color intensity',\n",
    "    10: 'Hue',\n",
    "    11: 'OD280/OD315 of diluted wines',\n",
    "    12: 'Proline'\n",
    "}\n",
    "\n",
    "wine = datasets.load_wine()\n",
    "df_wine = pd.DataFrame(wine.data, columns=dict_attr_wine.values())\n",
    "df_wine = pd.concat([df_wine, pd.DataFrame(wine.target, columns=['name'])], axis=1 )"
   ]
  },
  {
   "cell_type": "code",
   "execution_count": 4,
   "id": "1afee597-a714-41cb-b2c5-839da04db32a",
   "metadata": {
    "tags": []
   },
   "outputs": [
    {
     "name": "stderr",
     "output_type": "stream",
     "text": [
      "C:\\Users\\Daniel\\AppData\\Local\\Temp\\ipykernel_20160\\890971768.py:7: FutureWarning: The frame.append method is deprecated and will be removed from pandas in a future version. Use pandas.concat instead.\n",
      "  df_bank = pd.DataFrame(df_bank.append(pd.DataFrame(data2[0]), ignore_index = True))\n",
      "C:\\Users\\Daniel\\AppData\\Local\\Temp\\ipykernel_20160\\890971768.py:8: FutureWarning: The frame.append method is deprecated and will be removed from pandas in a future version. Use pandas.concat instead.\n",
      "  df_bank = pd.DataFrame(df_bank.append(pd.DataFrame(data3[0]), ignore_index = True))\n",
      "C:\\Users\\Daniel\\AppData\\Local\\Temp\\ipykernel_20160\\890971768.py:9: FutureWarning: The frame.append method is deprecated and will be removed from pandas in a future version. Use pandas.concat instead.\n",
      "  df_bank = pd.DataFrame(df_bank.append(pd.DataFrame(data4[0]), ignore_index = True))\n",
      "C:\\Users\\Daniel\\AppData\\Local\\Temp\\ipykernel_20160\\890971768.py:10: FutureWarning: The frame.append method is deprecated and will be removed from pandas in a future version. Use pandas.concat instead.\n",
      "  df_bank = pd.DataFrame(df_bank.append(pd.DataFrame(data5[0]), ignore_index = True))\n"
     ]
    }
   ],
   "source": [
    "data1 = arff.loadarff('1year.arff')\n",
    "data2 = arff.loadarff('2year.arff')\n",
    "data3 = arff.loadarff('3year.arff')\n",
    "data4 = arff.loadarff('4year.arff')\n",
    "data5 = arff.loadarff('5year.arff')\n",
    "df_bank = pd.DataFrame(data1[0])\n",
    "df_bank = pd.DataFrame(df_bank.append(pd.DataFrame(data2[0]), ignore_index = True))\n",
    "df_bank = pd.DataFrame(df_bank.append(pd.DataFrame(data3[0]), ignore_index = True))\n",
    "df_bank = pd.DataFrame(df_bank.append(pd.DataFrame(data4[0]), ignore_index = True))\n",
    "df_bank = pd.DataFrame(df_bank.append(pd.DataFrame(data5[0]), ignore_index = True))\n",
    "\n",
    "df_bank.loc[df_bank['class'] == b'1','class'] = 1\n",
    "df_bank.loc[df_bank['class'] == b'0','class'] = 0\n",
    "\n",
    "df_bank['class'] = df_bank['class'].astype('int')\n",
    "\n",
    "for column in df_bank.iloc[:, :-1]:\n",
    "    median = df_bank[column].median()\n",
    "    df_bank = df_bank.fillna(df_bank[column].fillna(median).to_frame())\n"
   ]
  },
  {
   "cell_type": "code",
   "execution_count": 5,
   "id": "4287bac4",
   "metadata": {},
   "outputs": [
    {
     "name": "stdout",
     "output_type": "stream",
     "text": [
      "              precision    recall  f1-score   support\n",
      "\n",
      "           0       1.00      1.00      1.00        19\n",
      "           1       0.94      1.00      0.97        15\n",
      "           2       1.00      0.94      0.97        16\n",
      "\n",
      "    accuracy                           0.98        50\n",
      "   macro avg       0.98      0.98      0.98        50\n",
      "weighted avg       0.98      0.98      0.98        50\n",
      "\n",
      "Cross val:  0.9666666666666667\n"
     ]
    },
    {
     "data": {
      "text/plain": [
       "{'f1': 0.98, 'cross-val': 0.9666666666666667}"
      ]
     },
     "execution_count": 5,
     "metadata": {},
     "output_type": "execute_result"
    }
   ],
   "source": [
    "from sklearn.model_selection import StratifiedKFold\n",
    "from sklearn.model_selection import KFold\n",
    "\n",
    "def RunKNN (df, n_neighbors = 5, weights = 'uniform', metric = 'minkowski', cv = 3, isStratified = False, print_metrics = True):\n",
    "    neigh = KNeighborsClassifier(n_neighbors = n_neighbors, metric = metric, weights = weights)\n",
    "\n",
    "    df_train, df_test = train_test_split( df, test_size=0.33, random_state=42)\n",
    "\n",
    "    neigh.fit(df_train.iloc[:, :-1], df_train.iloc[:, -1])\n",
    "\n",
    "    y_true = df_test.iloc[:, -1].tolist()\n",
    "    y_pred = neigh.predict(df_test.iloc[:, :-1])\n",
    "\n",
    "    strat_k_fold = None\n",
    "    if isStratified:\n",
    "        strat_k_fold = StratifiedKFold(n_splits=cv, shuffle=True, random_state=42)\n",
    "    else:\n",
    "        strat_k_fold = KFold(n_splits=cv, shuffle=True, random_state=42)\n",
    "    \n",
    "    cross_val = cross_val_score(neigh, df.iloc[:, :-1], df.iloc[:, -1], cv=strat_k_fold)\n",
    "    cross_val = cross_val.mean()\n",
    "    \n",
    "    if print_metrics:\n",
    "        print(skmet.classification_report(y_true, y_pred))\n",
    "        print('Cross val: ', cross_val)\n",
    "    \n",
    "    return {'f1':skmet.f1_score(y_true, y_pred, average='micro'), 'cross-val': cross_val}\n",
    "\n",
    "RunKNN(df_iris, cv = 3)"
   ]
  },
  {
   "attachments": {},
   "cell_type": "markdown",
   "id": "22443022",
   "metadata": {},
   "source": [
    "# Sprawdzenie liczby sąsiadów (f1-score)"
   ]
  },
  {
   "cell_type": "code",
   "execution_count": 6,
   "id": "619ad529",
   "metadata": {},
   "outputs": [
    {
     "data": {
      "text/html": [
       "<div>\n",
       "<style scoped>\n",
       "    .dataframe tbody tr th:only-of-type {\n",
       "        vertical-align: middle;\n",
       "    }\n",
       "\n",
       "    .dataframe tbody tr th {\n",
       "        vertical-align: top;\n",
       "    }\n",
       "\n",
       "    .dataframe thead th {\n",
       "        text-align: right;\n",
       "    }\n",
       "</style>\n",
       "<table border=\"1\" class=\"dataframe\">\n",
       "  <thead>\n",
       "    <tr style=\"text-align: right;\">\n",
       "      <th></th>\n",
       "      <th>1</th>\n",
       "      <th>2</th>\n",
       "      <th>3</th>\n",
       "      <th>4</th>\n",
       "      <th>5</th>\n",
       "      <th>6</th>\n",
       "      <th>7</th>\n",
       "      <th>8</th>\n",
       "      <th>9</th>\n",
       "      <th>10</th>\n",
       "      <th>11</th>\n",
       "      <th>12</th>\n",
       "      <th>13</th>\n",
       "      <th>14</th>\n",
       "      <th>15</th>\n",
       "    </tr>\n",
       "  </thead>\n",
       "  <tbody>\n",
       "    <tr>\n",
       "      <th>IRIS</th>\n",
       "      <td>0.980000</td>\n",
       "      <td>0.980000</td>\n",
       "      <td>0.980000</td>\n",
       "      <td>0.980000</td>\n",
       "      <td>0.980000</td>\n",
       "      <td>0.980000</td>\n",
       "      <td>0.980000</td>\n",
       "      <td>0.980000</td>\n",
       "      <td>0.980000</td>\n",
       "      <td>0.980000</td>\n",
       "      <td>1.000000</td>\n",
       "      <td>1.000000</td>\n",
       "      <td>1.000000</td>\n",
       "      <td>1.000000</td>\n",
       "      <td>1.000000</td>\n",
       "    </tr>\n",
       "    <tr>\n",
       "      <th>PBC</th>\n",
       "      <td>0.909313</td>\n",
       "      <td>0.946244</td>\n",
       "      <td>0.940170</td>\n",
       "      <td>0.948408</td>\n",
       "      <td>0.946803</td>\n",
       "      <td>0.949455</td>\n",
       "      <td>0.948548</td>\n",
       "      <td>0.949735</td>\n",
       "      <td>0.949386</td>\n",
       "      <td>0.949665</td>\n",
       "      <td>0.949455</td>\n",
       "      <td>0.949665</td>\n",
       "      <td>0.949595</td>\n",
       "      <td>0.949665</td>\n",
       "      <td>0.949665</td>\n",
       "    </tr>\n",
       "    <tr>\n",
       "      <th>WINE</th>\n",
       "      <td>0.779661</td>\n",
       "      <td>0.694915</td>\n",
       "      <td>0.694915</td>\n",
       "      <td>0.644068</td>\n",
       "      <td>0.677966</td>\n",
       "      <td>0.677966</td>\n",
       "      <td>0.711864</td>\n",
       "      <td>0.677966</td>\n",
       "      <td>0.677966</td>\n",
       "      <td>0.694915</td>\n",
       "      <td>0.728814</td>\n",
       "      <td>0.745763</td>\n",
       "      <td>0.745763</td>\n",
       "      <td>0.728814</td>\n",
       "      <td>0.728814</td>\n",
       "    </tr>\n",
       "  </tbody>\n",
       "</table>\n",
       "</div>"
      ],
      "text/plain": [
       "            1         2         3         4         5         6         7   \\\n",
       "IRIS  0.980000  0.980000  0.980000  0.980000  0.980000  0.980000  0.980000   \n",
       "PBC   0.909313  0.946244  0.940170  0.948408  0.946803  0.949455  0.948548   \n",
       "WINE  0.779661  0.694915  0.694915  0.644068  0.677966  0.677966  0.711864   \n",
       "\n",
       "            8         9         10        11        12        13        14  \\\n",
       "IRIS  0.980000  0.980000  0.980000  1.000000  1.000000  1.000000  1.000000   \n",
       "PBC   0.949735  0.949386  0.949665  0.949455  0.949665  0.949595  0.949665   \n",
       "WINE  0.677966  0.677966  0.694915  0.728814  0.745763  0.745763  0.728814   \n",
       "\n",
       "            15  \n",
       "IRIS  1.000000  \n",
       "PBC   0.949665  \n",
       "WINE  0.728814  "
      ]
     },
     "execution_count": 6,
     "metadata": {},
     "output_type": "execute_result"
    }
   ],
   "source": [
    "score_metric = 'f1'\n",
    "neigh_counts = list(range(1, 16))\n",
    "results_df = pd.DataFrame([\n",
    "[RunKNN (df_iris, n_neighbors = n, print_metrics = False)[score_metric] for n in neigh_counts],\n",
    "[RunKNN (df_bank, n_neighbors = n, print_metrics = False)[score_metric] for n in neigh_counts],\n",
    "[RunKNN (df_wine, n_neighbors = n, print_metrics = False)[score_metric] for n in neigh_counts]\n",
    "], index=['IRIS', 'PBC', 'WINE'], columns=neigh_counts)\n",
    "\n",
    "results_df"
   ]
  },
  {
   "cell_type": "code",
   "execution_count": 7,
   "id": "ba81b689",
   "metadata": {},
   "outputs": [
    {
     "data": {
      "image/png": "[encoded data removed]",
      "text/plain": [
       "<Figure size 640x480 with 1 Axes>"
      ]
     },
     "metadata": {},
     "output_type": "display_data"
    }
   ],
   "source": [
    "plt.close()\n",
    "plt.violinplot(results_df.transpose() )\n",
    "plt.boxplot(results_df.transpose())\n",
    "\n",
    "plt.title('Neighbour count')\n",
    "\n",
    "plt.xticks([1,2,3], ['IRIS', 'PBC', 'WINE'])\n",
    "\n",
    "plt.xlabel('Dataset')\n",
    "plt.ylabel('f1-score')\n",
    "\n",
    "plt.show()"
   ]
  },
  {
   "attachments": {},
   "cell_type": "markdown",
   "id": "12603940",
   "metadata": {},
   "source": [
    "# Sprawdzenie metod głosowania (f1-score)"
   ]
  },
  {
   "cell_type": "code",
   "execution_count": 8,
   "id": "0834be42",
   "metadata": {},
   "outputs": [
    {
     "data": {
      "text/html": [
       "<div>\n",
       "<style scoped>\n",
       "    .dataframe tbody tr th:only-of-type {\n",
       "        vertical-align: middle;\n",
       "    }\n",
       "\n",
       "    .dataframe tbody tr th {\n",
       "        vertical-align: top;\n",
       "    }\n",
       "\n",
       "    .dataframe thead th {\n",
       "        text-align: right;\n",
       "    }\n",
       "</style>\n",
       "<table border=\"1\" class=\"dataframe\">\n",
       "  <thead>\n",
       "    <tr style=\"text-align: right;\">\n",
       "      <th></th>\n",
       "      <th>uniform</th>\n",
       "      <th>distance</th>\n",
       "      <th>my_weight</th>\n",
       "    </tr>\n",
       "  </thead>\n",
       "  <tbody>\n",
       "    <tr>\n",
       "      <th>IRIS</th>\n",
       "      <td>0.980000</td>\n",
       "      <td>0.980000</td>\n",
       "      <td>0.980000</td>\n",
       "    </tr>\n",
       "    <tr>\n",
       "      <th>PBC</th>\n",
       "      <td>0.946803</td>\n",
       "      <td>0.940519</td>\n",
       "      <td>0.946593</td>\n",
       "    </tr>\n",
       "    <tr>\n",
       "      <th>WINE</th>\n",
       "      <td>0.677966</td>\n",
       "      <td>0.711864</td>\n",
       "      <td>0.677966</td>\n",
       "    </tr>\n",
       "  </tbody>\n",
       "</table>\n",
       "</div>"
      ],
      "text/plain": [
       "       uniform  distance  my_weight\n",
       "IRIS  0.980000  0.980000   0.980000\n",
       "PBC   0.946803  0.940519   0.946593\n",
       "WINE  0.677966  0.711864   0.677966"
      ]
     },
     "execution_count": 8,
     "metadata": {},
     "output_type": "execute_result"
    }
   ],
   "source": [
    "# weight function is used to judge and interpret the distances during the training process\n",
    "def my_weight(weights):\n",
    "    weights = [w / max(w) for w in weights]\n",
    "    return numpy.exp(weights)\n",
    "\n",
    "score_metric = 'f1'\n",
    "weights = ['uniform', 'distance', my_weight]\n",
    "\n",
    "results_df = pd.DataFrame([\n",
    "[RunKNN (df_iris, weights = w, print_metrics = False)[score_metric] for w in weights],\n",
    "[RunKNN (df_bank, weights = w, print_metrics = False)[score_metric] for w in weights],\n",
    "[RunKNN (df_wine, weights = w, print_metrics = False)[score_metric] for w in weights]\n",
    "], index=['IRIS','PBC', 'WINE'], columns=['uniform', 'distance', 'my_weight'])\n",
    "\n",
    "results_df\n"
   ]
  },
  {
   "cell_type": "code",
   "execution_count": 9,
   "id": "aa8e9d63",
   "metadata": {},
   "outputs": [
    {
     "data": {
      "text/plain": [
       "<Axes: >"
      ]
     },
     "execution_count": 9,
     "metadata": {},
     "output_type": "execute_result"
    },
    {
     "data": {
      "image/png": "[encoded data removed]",
      "text/plain": [
       "<Figure size 640x480 with 1 Axes>"
      ]
     },
     "metadata": {},
     "output_type": "display_data"
    }
   ],
   "source": [
    "results_df.plot(kind=\"bar\", ylim = (0.6, 1.1))"
   ]
  },
  {
   "attachments": {},
   "cell_type": "markdown",
   "id": "021d7b78",
   "metadata": {},
   "source": [
    "# Sprawdzenie metryk (f1-score)"
   ]
  },
  {
   "cell_type": "code",
   "execution_count": 10,
   "id": "3814a17e",
   "metadata": {},
   "outputs": [
    {
     "data": {
      "text/html": [
       "<div>\n",
       "<style scoped>\n",
       "    .dataframe tbody tr th:only-of-type {\n",
       "        vertical-align: middle;\n",
       "    }\n",
       "\n",
       "    .dataframe tbody tr th {\n",
       "        vertical-align: top;\n",
       "    }\n",
       "\n",
       "    .dataframe thead th {\n",
       "        text-align: right;\n",
       "    }\n",
       "</style>\n",
       "<table border=\"1\" class=\"dataframe\">\n",
       "  <thead>\n",
       "    <tr style=\"text-align: right;\">\n",
       "      <th></th>\n",
       "      <th>minkowski</th>\n",
       "      <th>euclidean</th>\n",
       "      <th>chebyshev</th>\n",
       "    </tr>\n",
       "  </thead>\n",
       "  <tbody>\n",
       "    <tr>\n",
       "      <th>IRIS</th>\n",
       "      <td>0.980000</td>\n",
       "      <td>0.980000</td>\n",
       "      <td>0.980000</td>\n",
       "    </tr>\n",
       "    <tr>\n",
       "      <th>PBC</th>\n",
       "      <td>0.946803</td>\n",
       "      <td>0.946803</td>\n",
       "      <td>0.947082</td>\n",
       "    </tr>\n",
       "    <tr>\n",
       "      <th>WINE</th>\n",
       "      <td>0.677966</td>\n",
       "      <td>0.677966</td>\n",
       "      <td>0.694915</td>\n",
       "    </tr>\n",
       "  </tbody>\n",
       "</table>\n",
       "</div>"
      ],
      "text/plain": [
       "      minkowski  euclidean  chebyshev\n",
       "IRIS   0.980000   0.980000   0.980000\n",
       "PBC    0.946803   0.946803   0.947082\n",
       "WINE   0.677966   0.677966   0.694915"
      ]
     },
     "execution_count": 10,
     "metadata": {},
     "output_type": "execute_result"
    }
   ],
   "source": [
    "score_metric = 'f1'\n",
    "metrics = ['minkowski', 'euclidean', 'chebyshev']\n",
    "\n",
    "results_df = pd.DataFrame([\n",
    "[RunKNN (df_iris, metric= m, print_metrics = False)[score_metric] for m in metrics],\n",
    "[RunKNN (df_bank, metric= m, print_metrics = False)[score_metric] for m in metrics],\n",
    "[RunKNN (df_wine, metric= m, print_metrics = False)[score_metric] for m in metrics]\n",
    "], index=['IRIS','PBC', 'WINE'], columns=metrics)\n",
    "results_df"
   ]
  },
  {
   "cell_type": "code",
   "execution_count": 11,
   "id": "6e9e4c0c",
   "metadata": {},
   "outputs": [
    {
     "data": {
      "text/plain": [
       "<Axes: >"
      ]
     },
     "execution_count": 11,
     "metadata": {},
     "output_type": "execute_result"
    },
    {
     "data": {
      "image/png": "[encoded data removed]",
      "text/plain": [
       "<Figure size 640x480 with 1 Axes>"
      ]
     },
     "metadata": {},
     "output_type": "display_data"
    }
   ],
   "source": [
    "results_df.plot(kind=\"bar\", ylim = (0.5, 1.1))"
   ]
  },
  {
   "attachments": {},
   "cell_type": "markdown",
   "id": "5ebe29c6",
   "metadata": {},
   "source": [
    "# Badanie skuteczności według walidacji krzyżowej z różnymi parametrami"
   ]
  },
  {
   "cell_type": "code",
   "execution_count": 12,
   "id": "575081de",
   "metadata": {},
   "outputs": [
    {
     "name": "stdout",
     "output_type": "stream",
     "text": [
      "Iris\n"
     ]
    },
    {
     "data": {
      "text/html": [
       "<div>\n",
       "<style scoped>\n",
       "    .dataframe tbody tr th:only-of-type {\n",
       "        vertical-align: middle;\n",
       "    }\n",
       "\n",
       "    .dataframe tbody tr th {\n",
       "        vertical-align: top;\n",
       "    }\n",
       "\n",
       "    .dataframe thead th {\n",
       "        text-align: right;\n",
       "    }\n",
       "</style>\n",
       "<table border=\"1\" class=\"dataframe\">\n",
       "  <thead>\n",
       "    <tr style=\"text-align: right;\">\n",
       "      <th></th>\n",
       "      <th>2</th>\n",
       "      <th>3</th>\n",
       "      <th>4</th>\n",
       "      <th>5</th>\n",
       "      <th>6</th>\n",
       "      <th>7</th>\n",
       "      <th>8</th>\n",
       "      <th>9</th>\n",
       "      <th>10</th>\n",
       "    </tr>\n",
       "  </thead>\n",
       "  <tbody>\n",
       "    <tr>\n",
       "      <th>Stratified</th>\n",
       "      <td>0.940000</td>\n",
       "      <td>0.953333</td>\n",
       "      <td>0.959815</td>\n",
       "      <td>0.966667</td>\n",
       "      <td>0.960000</td>\n",
       "      <td>0.973098</td>\n",
       "      <td>0.953216</td>\n",
       "      <td>0.953431</td>\n",
       "      <td>0.953333</td>\n",
       "    </tr>\n",
       "    <tr>\n",
       "      <th>Not stratified</th>\n",
       "      <td>0.946667</td>\n",
       "      <td>0.966667</td>\n",
       "      <td>0.966394</td>\n",
       "      <td>0.973333</td>\n",
       "      <td>0.973333</td>\n",
       "      <td>0.966296</td>\n",
       "      <td>0.973319</td>\n",
       "      <td>0.973039</td>\n",
       "      <td>0.973333</td>\n",
       "    </tr>\n",
       "  </tbody>\n",
       "</table>\n",
       "</div>"
      ],
      "text/plain": [
       "                      2         3         4         5         6         7   \\\n",
       "Stratified      0.940000  0.953333  0.959815  0.966667  0.960000  0.973098   \n",
       "Not stratified  0.946667  0.966667  0.966394  0.973333  0.973333  0.966296   \n",
       "\n",
       "                      8         9         10  \n",
       "Stratified      0.953216  0.953431  0.953333  \n",
       "Not stratified  0.973319  0.973039  0.973333  "
      ]
     },
     "execution_count": 12,
     "metadata": {},
     "output_type": "execute_result"
    }
   ],
   "source": [
    "score_metric = 'cross-val'\n",
    "cvs = list(range(2, 11))\n",
    "\n",
    "print('Iris')\n",
    "results_df = pd.DataFrame([\n",
    "[RunKNN (df_iris, isStratified = True, cv= c, print_metrics = False)[score_metric] for c in cvs],\n",
    "[RunKNN (df_iris, isStratified = False, cv= c, print_metrics = False)[score_metric] for c in cvs]\n",
    "], index=['Stratified','Not stratified'], columns=cvs)\n",
    "results_df"
   ]
  },
  {
   "cell_type": "code",
   "execution_count": 13,
   "id": "52858e8b",
   "metadata": {},
   "outputs": [
    {
     "data": {
      "image/png": "[encoded data removed]",
      "text/plain": [
       "<Figure size 640x480 with 1 Axes>"
      ]
     },
     "metadata": {},
     "output_type": "display_data"
    }
   ],
   "source": [
    "plt.close()\n",
    "plt.violinplot(results_df.transpose() )\n",
    "plt.boxplot(results_df.transpose())\n",
    "\n",
    "plt.title('K fold for IRIS')\n",
    "\n",
    "plt.xticks([1,2], ['Stratified','Not stratified'])\n",
    "\n",
    "plt.xlabel('Method')\n",
    "plt.ylabel('f1-score')\n",
    "\n",
    "plt.show()"
   ]
  },
  {
   "cell_type": "code",
   "execution_count": 14,
   "id": "85c41d68",
   "metadata": {},
   "outputs": [
    {
     "name": "stdout",
     "output_type": "stream",
     "text": [
      "PCB\n"
     ]
    },
    {
     "data": {
      "text/html": [
       "<div>\n",
       "<style scoped>\n",
       "    .dataframe tbody tr th:only-of-type {\n",
       "        vertical-align: middle;\n",
       "    }\n",
       "\n",
       "    .dataframe tbody tr th {\n",
       "        vertical-align: top;\n",
       "    }\n",
       "\n",
       "    .dataframe thead th {\n",
       "        text-align: right;\n",
       "    }\n",
       "</style>\n",
       "<table border=\"1\" class=\"dataframe\">\n",
       "  <thead>\n",
       "    <tr style=\"text-align: right;\">\n",
       "      <th></th>\n",
       "      <th>2</th>\n",
       "      <th>3</th>\n",
       "      <th>4</th>\n",
       "      <th>5</th>\n",
       "      <th>6</th>\n",
       "      <th>7</th>\n",
       "      <th>8</th>\n",
       "      <th>9</th>\n",
       "      <th>10</th>\n",
       "    </tr>\n",
       "  </thead>\n",
       "  <tbody>\n",
       "    <tr>\n",
       "      <th>Stratified</th>\n",
       "      <td>0.948508</td>\n",
       "      <td>0.948716</td>\n",
       "      <td>0.948439</td>\n",
       "      <td>0.948531</td>\n",
       "      <td>0.949038</td>\n",
       "      <td>0.948670</td>\n",
       "      <td>0.948785</td>\n",
       "      <td>0.948716</td>\n",
       "      <td>0.948531</td>\n",
       "    </tr>\n",
       "    <tr>\n",
       "      <th>Not stratified</th>\n",
       "      <td>0.948854</td>\n",
       "      <td>0.948992</td>\n",
       "      <td>0.948693</td>\n",
       "      <td>0.949107</td>\n",
       "      <td>0.948923</td>\n",
       "      <td>0.948992</td>\n",
       "      <td>0.948946</td>\n",
       "      <td>0.948946</td>\n",
       "      <td>0.948692</td>\n",
       "    </tr>\n",
       "  </tbody>\n",
       "</table>\n",
       "</div>"
      ],
      "text/plain": [
       "                      2         3         4         5         6         7   \\\n",
       "Stratified      0.948508  0.948716  0.948439  0.948531  0.949038  0.948670   \n",
       "Not stratified  0.948854  0.948992  0.948693  0.949107  0.948923  0.948992   \n",
       "\n",
       "                      8         9         10  \n",
       "Stratified      0.948785  0.948716  0.948531  \n",
       "Not stratified  0.948946  0.948946  0.948692  "
      ]
     },
     "execution_count": 14,
     "metadata": {},
     "output_type": "execute_result"
    }
   ],
   "source": [
    "score_metric = 'cross-val'\n",
    "cvs = list(range(2, 11))\n",
    "\n",
    "print('PCB')\n",
    "results_df = pd.DataFrame([\n",
    "[RunKNN (df_bank, isStratified = True, cv= c, print_metrics = False)[score_metric] for c in cvs],\n",
    "[RunKNN (df_bank, isStratified = False, cv= c, print_metrics = False)[score_metric] for c in cvs]\n",
    "], index=['Stratified','Not stratified'], columns=cvs)\n",
    "\n",
    "results_df"
   ]
  },
  {
   "cell_type": "code",
   "execution_count": 15,
   "id": "e5514d34",
   "metadata": {},
   "outputs": [
    {
     "data": {
      "image/png": "[encoded data removed]",
      "text/plain": [
       "<Figure size 640x480 with 1 Axes>"
      ]
     },
     "metadata": {},
     "output_type": "display_data"
    }
   ],
   "source": [
    "plt.close()\n",
    "plt.violinplot(results_df.transpose() )\n",
    "plt.boxplot(results_df.transpose())\n",
    "\n",
    "plt.title('K fold for PBC')\n",
    "\n",
    "plt.xticks([1,2], ['Stratified','Not stratified'])\n",
    "\n",
    "plt.xlabel('Method')\n",
    "plt.ylabel('f1-score')\n",
    "\n",
    "plt.show()"
   ]
  },
  {
   "cell_type": "code",
   "execution_count": 16,
   "id": "a98628ce",
   "metadata": {},
   "outputs": [
    {
     "name": "stdout",
     "output_type": "stream",
     "text": [
      "Wine\n"
     ]
    },
    {
     "data": {
      "text/html": [
       "<div>\n",
       "<style scoped>\n",
       "    .dataframe tbody tr th:only-of-type {\n",
       "        vertical-align: middle;\n",
       "    }\n",
       "\n",
       "    .dataframe tbody tr th {\n",
       "        vertical-align: top;\n",
       "    }\n",
       "\n",
       "    .dataframe thead th {\n",
       "        text-align: right;\n",
       "    }\n",
       "</style>\n",
       "<table border=\"1\" class=\"dataframe\">\n",
       "  <thead>\n",
       "    <tr style=\"text-align: right;\">\n",
       "      <th></th>\n",
       "      <th>2</th>\n",
       "      <th>3</th>\n",
       "      <th>4</th>\n",
       "      <th>5</th>\n",
       "      <th>6</th>\n",
       "      <th>7</th>\n",
       "      <th>8</th>\n",
       "      <th>9</th>\n",
       "      <th>10</th>\n",
       "    </tr>\n",
       "  </thead>\n",
       "  <tbody>\n",
       "    <tr>\n",
       "      <th>Stratified</th>\n",
       "      <td>0.730337</td>\n",
       "      <td>0.679473</td>\n",
       "      <td>0.696843</td>\n",
       "      <td>0.680159</td>\n",
       "      <td>0.685057</td>\n",
       "      <td>0.708132</td>\n",
       "      <td>0.701828</td>\n",
       "      <td>0.685088</td>\n",
       "      <td>0.685621</td>\n",
       "    </tr>\n",
       "    <tr>\n",
       "      <th>Not stratified</th>\n",
       "      <td>0.634831</td>\n",
       "      <td>0.640207</td>\n",
       "      <td>0.668308</td>\n",
       "      <td>0.674603</td>\n",
       "      <td>0.662644</td>\n",
       "      <td>0.662418</td>\n",
       "      <td>0.662549</td>\n",
       "      <td>0.640936</td>\n",
       "      <td>0.664052</td>\n",
       "    </tr>\n",
       "  </tbody>\n",
       "</table>\n",
       "</div>"
      ],
      "text/plain": [
       "                      2         3         4         5         6         7   \\\n",
       "Stratified      0.730337  0.679473  0.696843  0.680159  0.685057  0.708132   \n",
       "Not stratified  0.634831  0.640207  0.668308  0.674603  0.662644  0.662418   \n",
       "\n",
       "                      8         9         10  \n",
       "Stratified      0.701828  0.685088  0.685621  \n",
       "Not stratified  0.662549  0.640936  0.664052  "
      ]
     },
     "execution_count": 16,
     "metadata": {},
     "output_type": "execute_result"
    }
   ],
   "source": [
    "score_metric = 'cross-val'\n",
    "cvs = list(range(2, 11))\n",
    "\n",
    "print('Wine')\n",
    "results_df = pd.DataFrame([\n",
    "[RunKNN (df_wine, isStratified = True, cv= c, print_metrics = False)[score_metric] for c in cvs],\n",
    "[RunKNN (df_wine, isStratified = False, cv= c, print_metrics = False)[score_metric] for c in cvs]\n",
    "], index=['Stratified','Not stratified'], columns=cvs)\n",
    "\n",
    "results_df"
   ]
  },
  {
   "cell_type": "code",
   "execution_count": 17,
   "id": "1e98edc6",
   "metadata": {},
   "outputs": [
    {
     "data": {
      "image/png": "[encoded data removed]",
      "text/plain": [
       "<Figure size 640x480 with 1 Axes>"
      ]
     },
     "metadata": {},
     "output_type": "display_data"
    }
   ],
   "source": [
    "plt.close()\n",
    "plt.violinplot(results_df.transpose() )\n",
    "plt.boxplot(results_df.transpose())\n",
    "\n",
    "plt.title('K fold for WINE')\n",
    "\n",
    "plt.xticks([1,2], ['Stratified','Not stratified'])\n",
    "\n",
    "plt.xlabel('Method')\n",
    "plt.ylabel('f1-score')\n",
    "\n",
    "plt.show()"
   ]
  },
  {
   "cell_type": "code",
   "execution_count": 18,
   "id": "89d34d5d",
   "metadata": {},
   "outputs": [
    {
     "data": {
      "text/html": [
       "<div>\n",
       "<style scoped>\n",
       "    .dataframe tbody tr th:only-of-type {\n",
       "        vertical-align: middle;\n",
       "    }\n",
       "\n",
       "    .dataframe tbody tr th {\n",
       "        vertical-align: top;\n",
       "    }\n",
       "\n",
       "    .dataframe thead th {\n",
       "        text-align: right;\n",
       "    }\n",
       "</style>\n",
       "<table border=\"1\" class=\"dataframe\">\n",
       "  <thead>\n",
       "    <tr style=\"text-align: right;\">\n",
       "      <th></th>\n",
       "      <th>Stratified</th>\n",
       "      <th>Not Stratified</th>\n",
       "    </tr>\n",
       "  </thead>\n",
       "  <tbody>\n",
       "    <tr>\n",
       "      <th>IRIS</th>\n",
       "      <td>0.953333</td>\n",
       "      <td>0.966667</td>\n",
       "    </tr>\n",
       "    <tr>\n",
       "      <th>PBC</th>\n",
       "      <td>0.948716</td>\n",
       "      <td>0.948992</td>\n",
       "    </tr>\n",
       "    <tr>\n",
       "      <th>WINE</th>\n",
       "      <td>0.679473</td>\n",
       "      <td>0.640207</td>\n",
       "    </tr>\n",
       "  </tbody>\n",
       "</table>\n",
       "</div>"
      ],
      "text/plain": [
       "      Stratified  Not Stratified\n",
       "IRIS    0.953333        0.966667\n",
       "PBC     0.948716        0.948992\n",
       "WINE    0.679473        0.640207"
      ]
     },
     "execution_count": 18,
     "metadata": {},
     "output_type": "execute_result"
    }
   ],
   "source": [
    "score_metric = 'cross-val'\n",
    "strs = [True, False]\n",
    "\n",
    "results_df = pd.DataFrame([\n",
    "[RunKNN (df_iris, isStratified= s, print_metrics = False)[score_metric] for s in strs],\n",
    "[RunKNN (df_bank, isStratified= s, print_metrics = False)[score_metric] for s in strs],\n",
    "[RunKNN (df_wine, isStratified= s, print_metrics = False)[score_metric] for s in strs]\n",
    "], index=['IRIS','PBC', 'WINE'], columns=['Stratified','Not Stratified'])\n",
    "\n",
    "results_df"
   ]
  },
  {
   "cell_type": "code",
   "execution_count": 19,
   "id": "404b1bbd",
   "metadata": {},
   "outputs": [
    {
     "data": {
      "text/plain": [
       "<Axes: >"
      ]
     },
     "execution_count": 19,
     "metadata": {},
     "output_type": "execute_result"
    },
    {
     "data": {
      "image/png": "[encoded data removed]",
      "text/plain": [
       "<Figure size 640x480 with 1 Axes>"
      ]
     },
     "metadata": {},
     "output_type": "display_data"
    }
   ],
   "source": [
    "results_df.plot(kind=\"bar\", ylim = (0.5, 1.1))"
   ]
  }
 ],
 "metadata": {
  "kernelspec": {
   "display_name": "Python 3 (ipykernel)",
   "language": "python",
   "name": "python3"
  },
  "language_info": {
   "codemirror_mode": {
    "name": "ipython",
    "version": 3
   },
   "file_extension": ".py",
   "mimetype": "text/x-python",
   "name": "python",
   "nbconvert_exporter": "python",
   "pygments_lexer": "ipython3",
   "version": "3.11.2"
  }
 },
 "nbformat": 4,
 "nbformat_minor": 5
}
